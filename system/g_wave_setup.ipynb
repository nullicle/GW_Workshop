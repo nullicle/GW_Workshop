{
 "cells": [
  {
   "cell_type": "code",
   "execution_count": 1,
   "metadata": {},
   "outputs": [],
   "source": [
    "import sys\n",
    "import os\n",
    "import numpy as np\n",
    "import h5py\n",
    "import argparse\n",
    "from mpi4py import MPI\n",
    "\n",
    "from coffee import ibvp, actions, solvers, grid\n",
    "from coffee.diffop import fd\n",
    "from coffee.diffop.sbp import sbp\n",
    "\n",
    "import g_wave\n",
    "import gwave_plotter as gw_plotter\n",
    "\n",
    "np.set_printoptions(threshold=np.inf, precision=16)"
   ]
  },
  {
   "cell_type": "code",
   "execution_count": 2,
   "metadata": {},
   "outputs": [],
   "source": [
    "N      = 400\n",
    "a      = 32.\n",
    "A      = 4.\n",
    "pl     = [0.]\n",
    "pr     = [0.]\n",
    "\n",
    "tau    = 1.\n",
    "CFL    = 0.2\n",
    "\n",
    "zstart = -2.\n",
    "zstop  = 2.\n",
    "tstart = 0.\n",
    "tstop  = 1000.\n",
    "\n",
    "store_output = False\n",
    "filename     = \"{N}.hdf\"\n",
    "\n",
    "display_output = False"
   ]
  },
  {
   "cell_type": "code",
   "execution_count": 3,
   "metadata": {},
   "outputs": [],
   "source": [
    "diffop = sbp.D43_Strand(sbp.BOUNDARY_TYPE_GHOST_POINTS)"
   ]
  },
  {
   "cell_type": "code",
   "execution_count": 4,
   "metadata": {},
   "outputs": [],
   "source": [
    "dims = MPI.Compute_dims(MPI.COMM_WORLD.size, [0])                                    \n",
    "periods = [0]                                                                        \n",
    "reorder = True                                                                       \n",
    "mpi_comm = MPI.COMM_WORLD.Create_cart(dims, periods=periods, reorder=reorder)        \n"
   ]
  },
  {
   "cell_type": "code",
   "execution_count": 5,
   "metadata": {},
   "outputs": [],
   "source": [
    "ghost_points = (diffop.ghost_points(),)\n",
    "internal_points = (diffop.internal_points(),)\n",
    "b_data = grid.MPIBoundary(\n",
    "    ghost_points, \n",
    "    internal_points, \n",
    "    mpi_comm=mpi_comm, \n",
    "    number_of_dimensions=1\n",
    ")\n",
    "\n",
    "grid = grid.UniformCart(\n",
    "        (N,), \n",
    "        [[zstart,zstop]],\n",
    "        comparison = N,\n",
    "        mpi_comm = mpi_comm,\n",
    "        boundary_data=b_data\n",
    "    )\n",
    "\n",
    "global_z = np.linspace(zstart, zstop, N+1)"
   ]
  },
  {
   "cell_type": "code",
   "execution_count": 6,
   "metadata": {},
   "outputs": [],
   "source": [
    "system = g_wave.G_wave(\\\n",
    "        diffop, tau, global_z, \n",
    "        CFL = CFL, \n",
    "        amplitude = a,\n",
    "        A=A,\n",
    "        pl = pl, pr = pr\n",
    "        )"
   ]
  },
  {
   "cell_type": "code",
   "execution_count": 7,
   "metadata": {},
   "outputs": [],
   "source": [
    "solver = solvers.RungeKutta4(system)\n",
    "maxIteration = 10000000"
   ]
  },
  {
   "cell_type": "code",
   "execution_count": 8,
   "metadata": {},
   "outputs": [],
   "source": [
    "if store_output and mpi_comm.rank==0:\n",
    "    hdf_file = h5py.File(filename, \"w\")"
   ]
  },
  {
   "cell_type": "code",
   "execution_count": 9,
   "metadata": {},
   "outputs": [],
   "source": [
    "output_actions = [\n",
    "    actions.SimOutput.Data(),\n",
    "    actions.SimOutput.Times()\n",
    "    ]"
   ]
  },
  {
   "cell_type": "code",
   "execution_count": 10,
   "metadata": {},
   "outputs": [],
   "source": [
    "    actionList = []\n",
    "    if store_output and mpi_comm.rank == 0:\n",
    "        actionList += [actions.SimOutput(\\\n",
    "            hdf_file,\\\n",
    "            solver, \\\n",
    "            system, \\\n",
    "            grid, \\\n",
    "            output_actions,\\\n",
    "            overwrite = True,\\\n",
    "            name = grid.name,\\\n",
    "            cmp_ = grid.comparison\\\n",
    "            )]\n",
    "    if display_output and mpi_comm.rank == 0:\n",
    "        actionList += [gw_plotter.Plotter(\n",
    "            system,\n",
    "            frequency = 10, \n",
    "            xlim = (zstart, zstop),\n",
    "            ylim = [-a*1.1, a*1.1], \n",
    "            findex = (7,8,3,4,5,6,2), \n",
    "            delay = 0.0001\n",
    "        )]\n",
    "    problem = ibvp.IBVP(solver, system, grid = grid,\\\n",
    "            maxIteration = 1000000, action = actionList,\\\n",
    "            minTimestep = 1e-6)"
   ]
  },
  {
   "cell_type": "code",
   "execution_count": 12,
   "metadata": {},
   "outputs": [
    {
     "name": "stdout",
     "output_type": "stream",
     "text": [
      "0.0\n",
      "0.0010000000000000009\n",
      "0.0010000000000000009\n",
      "0.0020000000000000018\n",
      "0.0020000000000000018\n",
      "0.0030000000000000027\n",
      "0.0030000000000000027\n",
      "0.0040000000000000036\n",
      "0.0040000000000000036\n",
      "0.0050000000000000044\n",
      "0.0050000000000000044\n",
      "0.006000000000000005\n",
      "0.006000000000000005\n",
      "0.007000000000000006\n",
      "0.007000000000000006\n",
      "0.008000000000000007\n"
     ]
    },
    {
     "ename": "KeyboardInterrupt",
     "evalue": "",
     "output_type": "error",
     "traceback": [
      "\u001b[0;31m---------------------------------------------------------------------------\u001b[0m",
      "\u001b[0;31mKeyboardInterrupt\u001b[0m                         Traceback (most recent call last)",
      "Cell \u001b[0;32mIn[12], line 1\u001b[0m\n\u001b[0;32m----> 1\u001b[0m problem\u001b[39m.\u001b[39;49mrun(tstart, tstop)\n",
      "File \u001b[0;32m~/pCloudDrive/PCLOUD/Talks/Workshop_NZ_Gravity_SS_2023/GW_Workshop/packages/coffee/ibvp.py:153\u001b[0m, in \u001b[0;36mIBVP.run\u001b[0;34m(self, tstart, tstop, thits)\u001b[0m\n\u001b[1;32m    149\u001b[0m \t\u001b[39mself\u001b[39m\u001b[39m.\u001b[39mlog\u001b[39m.\u001b[39mdebug(\n\u001b[1;32m    150\u001b[0m \t\t\u001b[39m\"\u001b[39m\u001b[39mAbout to advance for iteration = \u001b[39m\u001b[39m%i\u001b[39;00m\u001b[39m\"\u001b[39m\u001b[39m%\u001b[39m\u001b[39mself\u001b[39m\u001b[39m.\u001b[39miteration\n\u001b[1;32m    151\u001b[0m \t)\n\u001b[1;32m    152\u001b[0m \u001b[39mtry\u001b[39;00m:\n\u001b[0;32m--> 153\u001b[0m \tt, u \u001b[39m=\u001b[39m advance(t, u, dt)\n\u001b[1;32m    154\u001b[0m \u001b[39mexcept\u001b[39;00m \u001b[39mOverflowError\u001b[39;00m \u001b[39mas\u001b[39;00m e:\n\u001b[1;32m    155\u001b[0m \n\u001b[1;32m    156\u001b[0m \t\u001b[39m# OverflowErrors arn't always appropirately handled. So we\u001b[39;00m\n\u001b[1;32m    157\u001b[0m \t\u001b[39m# do it ourselves here.\u001b[39;00m\n\u001b[1;32m    158\u001b[0m \t\u001b[39mprint\u001b[39m(\u001b[39m\"\u001b[39m\u001b[39mOverflow error(\u001b[39m\u001b[39m{0}\u001b[39;00m\u001b[39m): \u001b[39m\u001b[39m{1}\u001b[39;00m\u001b[39m\"\u001b[39m\u001b[39m.\u001b[39mformat(e\u001b[39m.\u001b[39merrno, e\u001b[39m.\u001b[39mstrerror))\n",
      "File \u001b[0;32m~/pCloudDrive/PCLOUD/Talks/Workshop_NZ_Gravity_SS_2023/GW_Workshop/packages/coffee/solvers/solvers.py:225\u001b[0m, in \u001b[0;36mRungeKutta4.advance\u001b[0;34m(self, t0, u0, dt)\u001b[0m\n\u001b[1;32m    223\u001b[0m u \u001b[39m=\u001b[39m u0\n\u001b[1;32m    224\u001b[0m t \u001b[39m=\u001b[39m t0\n\u001b[0;32m--> 225\u001b[0m k \u001b[39m=\u001b[39m eqn\u001b[39m.\u001b[39;49mevaluate(t, u)\n\u001b[1;32m    226\u001b[0m \u001b[39mif\u001b[39;00m __debug__:\n\u001b[1;32m    227\u001b[0m     \u001b[39mself\u001b[39m\u001b[39m.\u001b[39mlog\u001b[39m.\u001b[39mdebug(\u001b[39m\"\u001b[39m\u001b[39mFirst evaluate, k = \u001b[39m\u001b[39m%s\u001b[39;00m\u001b[39m\"\u001b[39m\u001b[39m%\u001b[39m\u001b[39mrepr\u001b[39m(k))\n",
      "File \u001b[0;32m~/pCloudDrive/PCLOUD/Talks/Workshop_NZ_Gravity_SS_2023/GW_Workshop/system/g_wave.py:133\u001b[0m, in \u001b[0;36mG_wave.evaluate\u001b[0;34m(self, t, U, intStep)\u001b[0m\n\u001b[1;32m    130\u001b[0m dv \u001b[39m=\u001b[39m  A\u001b[39m*\u001b[39mv_prime \u001b[39m/\u001b[39m (\u001b[39m1.\u001b[39m \u001b[39m-\u001b[39m B) \n\u001b[1;32m    132\u001b[0m \u001b[39m# Impose boundary conditions\u001b[39;00m\n\u001b[0;32m--> 133\u001b[0m new_derivatives, _ \u001b[39m=\u001b[39m U\u001b[39m.\u001b[39;49mcommunicate(\n\u001b[1;32m    134\u001b[0m \tpartial(ghost_point_processor),\n\u001b[1;32m    135\u001b[0m \tdata\u001b[39m=\u001b[39;49mnp\u001b[39m.\u001b[39;49marray([\n\u001b[1;32m    136\u001b[0m \t\tdA, dB, dmu, drho, drhop, dsigma, dsigmap, dpsi0, dpsi4, \\\n\u001b[1;32m    137\u001b[0m \t\tdu, dv, dxi, deta\n\u001b[1;32m    138\u001b[0m \t])\n\u001b[1;32m    139\u001b[0m )\n\u001b[1;32m    140\u001b[0m dA, dB, dmu, drho, drhop, dsigma, dsigmap, dpsi0, dpsi4, du, dv, \\\n\u001b[1;32m    141\u001b[0m \tdxi, deta \u001b[39m=\u001b[39m new_derivatives\n\u001b[1;32m    143\u001b[0m pt_r \u001b[39m=\u001b[39m \u001b[39mself\u001b[39m\u001b[39m.\u001b[39mD\u001b[39m.\u001b[39mpenalty_boundary(dz, \u001b[39m\"\u001b[39m\u001b[39mright\u001b[39m\u001b[39m\"\u001b[39m)\n",
      "File \u001b[0;32m~/pCloudDrive/PCLOUD/Talks/Workshop_NZ_Gravity_SS_2023/GW_Workshop/packages/coffee/tslices/tslices.py:140\u001b[0m, in \u001b[0;36mABCTimeSlice.communicate\u001b[0;34m(self, ghost_point_processor, data)\u001b[0m\n\u001b[1;32m    116\u001b[0m \u001b[39mdef\u001b[39;00m \u001b[39mcommunicate\u001b[39m(\u001b[39mself\u001b[39m, ghost_point_processor\u001b[39m=\u001b[39m\u001b[39mNone\u001b[39;00m, data\u001b[39m=\u001b[39m\u001b[39mNone\u001b[39;00m):\n\u001b[1;32m    117\u001b[0m     \u001b[39m\"\"\"Returns a list of tuples that describe the boundaries of\u001b[39;00m\n\u001b[1;32m    118\u001b[0m \u001b[39m    grids for internal boundaries.\u001b[39;00m\n\u001b[1;32m    119\u001b[0m \n\u001b[0;32m   (...)\u001b[0m\n\u001b[1;32m    138\u001b[0m \n\u001b[1;32m    139\u001b[0m \u001b[39m    \"\"\"\u001b[39;00m\n\u001b[0;32m--> 140\u001b[0m     \u001b[39mreturn\u001b[39;00m \u001b[39mself\u001b[39;49m\u001b[39m.\u001b[39;49mdomain\u001b[39m.\u001b[39;49mcommunicate(\n\u001b[1;32m    141\u001b[0m         data \u001b[39mif\u001b[39;49;00m data \u001b[39mis\u001b[39;49;00m \u001b[39mnot\u001b[39;49;00m \u001b[39mNone\u001b[39;49;00m \u001b[39melse\u001b[39;49;00m \u001b[39mself\u001b[39;49m\u001b[39m.\u001b[39;49mdata,\n\u001b[1;32m    142\u001b[0m         ghost_point_processor\u001b[39m=\u001b[39;49mghost_point_processor\n\u001b[1;32m    143\u001b[0m     )\n",
      "File \u001b[0;32m~/pCloudDrive/PCLOUD/Talks/Workshop_NZ_Gravity_SS_2023/GW_Workshop/packages/coffee/grid/grid.py:588\u001b[0m, in \u001b[0;36mABCGrid.communicate\u001b[0;34m(self, data, ghost_point_processor)\u001b[0m\n\u001b[1;32m    586\u001b[0m \u001b[39mif\u001b[39;00m \u001b[39mself\u001b[39m\u001b[39m.\u001b[39mmpi \u001b[39mis\u001b[39;00m \u001b[39mNone\u001b[39;00m:\n\u001b[1;32m    587\u001b[0m     \u001b[39mreturn\u001b[39;00m data\n\u001b[0;32m--> 588\u001b[0m b_values \u001b[39m=\u001b[39m \u001b[39mself\u001b[39;49m\u001b[39m.\u001b[39;49mmpi\u001b[39m.\u001b[39;49mcommunicate(data, \u001b[39mself\u001b[39;49m\u001b[39m.\u001b[39;49mboundary_data)\n\u001b[1;32m    589\u001b[0m \u001b[39mif\u001b[39;00m ghost_point_processor:\n\u001b[1;32m    590\u001b[0m     ghost_point_processor(data, b_values)\n",
      "File \u001b[0;32m~/pCloudDrive/PCLOUD/Talks/Workshop_NZ_Gravity_SS_2023/GW_Workshop/packages/coffee/mpi/mpiinterfaces.py:260\u001b[0m, in \u001b[0;36mEvenCart.communicate\u001b[0;34m(self, data, b_data)\u001b[0m\n\u001b[1;32m    258\u001b[0m     \u001b[39mself\u001b[39m\u001b[39m.\u001b[39mlog\u001b[39m.\u001b[39mdebug(\u001b[39m\"\u001b[39m\u001b[39mabout to perform communication\u001b[39m\u001b[39m\"\u001b[39m)\n\u001b[1;32m    259\u001b[0m     \u001b[39mself\u001b[39m\u001b[39m.\u001b[39mlog\u001b[39m.\u001b[39mdebug(\u001b[39m\"\u001b[39m\u001b[39mnslices = \u001b[39m\u001b[39m%s\u001b[39;00m\u001b[39m\"\u001b[39m\u001b[39m%\u001b[39m(\u001b[39mrepr\u001b[39m(nslices)))\n\u001b[0;32m--> 260\u001b[0m     \u001b[39mself\u001b[39m\u001b[39m.\u001b[39mlog\u001b[39m.\u001b[39mdebug(\u001b[39m\"\u001b[39m\u001b[39mdata is \u001b[39m\u001b[39m%s\u001b[39;00m\u001b[39m\"\u001b[39m\u001b[39m%\u001b[39m\u001b[39mrepr\u001b[39;49m(data))\n\u001b[1;32m    261\u001b[0m r_data \u001b[39m=\u001b[39m []\n\u001b[1;32m    262\u001b[0m \u001b[39mfor\u001b[39;00m source, dest, send_slice, recv_slice \u001b[39min\u001b[39;00m nslices:\n",
      "File \u001b[0;32m~/.local/lib/python3.10/site-packages/numpy/core/arrayprint.py:1488\u001b[0m, in \u001b[0;36m_array_repr_implementation\u001b[0;34m(arr, max_line_width, precision, suppress_small, array2string)\u001b[0m\n\u001b[1;32m   1486\u001b[0m     lst \u001b[39m=\u001b[39m \u001b[39mrepr\u001b[39m(arr\u001b[39m.\u001b[39mitem())\n\u001b[1;32m   1487\u001b[0m \u001b[39melif\u001b[39;00m arr\u001b[39m.\u001b[39msize \u001b[39m>\u001b[39m \u001b[39m0\u001b[39m \u001b[39mor\u001b[39;00m arr\u001b[39m.\u001b[39mshape \u001b[39m==\u001b[39m (\u001b[39m0\u001b[39m,):\n\u001b[0;32m-> 1488\u001b[0m     lst \u001b[39m=\u001b[39m array2string(arr, max_line_width, precision, suppress_small,\n\u001b[1;32m   1489\u001b[0m                        \u001b[39m'\u001b[39;49m\u001b[39m, \u001b[39;49m\u001b[39m'\u001b[39;49m, prefix, suffix\u001b[39m=\u001b[39;49msuffix)\n\u001b[1;32m   1490\u001b[0m \u001b[39melse\u001b[39;00m:  \u001b[39m# show zero-length shape unless it is (0,)\u001b[39;00m\n\u001b[1;32m   1491\u001b[0m     lst \u001b[39m=\u001b[39m \u001b[39m\"\u001b[39m\u001b[39m[], shape=\u001b[39m\u001b[39m%s\u001b[39;00m\u001b[39m\"\u001b[39m \u001b[39m%\u001b[39m (\u001b[39mrepr\u001b[39m(arr\u001b[39m.\u001b[39mshape),)\n",
      "File \u001b[0;32m~/.local/lib/python3.10/site-packages/numpy/core/arrayprint.py:736\u001b[0m, in \u001b[0;36marray2string\u001b[0;34m(a, max_line_width, precision, suppress_small, separator, prefix, style, formatter, threshold, edgeitems, sign, floatmode, suffix, legacy)\u001b[0m\n\u001b[1;32m    733\u001b[0m \u001b[39mif\u001b[39;00m a\u001b[39m.\u001b[39msize \u001b[39m==\u001b[39m \u001b[39m0\u001b[39m:\n\u001b[1;32m    734\u001b[0m     \u001b[39mreturn\u001b[39;00m \u001b[39m\"\u001b[39m\u001b[39m[]\u001b[39m\u001b[39m\"\u001b[39m\n\u001b[0;32m--> 736\u001b[0m \u001b[39mreturn\u001b[39;00m _array2string(a, options, separator, prefix)\n",
      "File \u001b[0;32m~/.local/lib/python3.10/site-packages/numpy/core/arrayprint.py:513\u001b[0m, in \u001b[0;36m_recursive_guard.<locals>.decorating_function.<locals>.wrapper\u001b[0;34m(self, *args, **kwargs)\u001b[0m\n\u001b[1;32m    511\u001b[0m repr_running\u001b[39m.\u001b[39madd(key)\n\u001b[1;32m    512\u001b[0m \u001b[39mtry\u001b[39;00m:\n\u001b[0;32m--> 513\u001b[0m     \u001b[39mreturn\u001b[39;00m f(\u001b[39mself\u001b[39;49m, \u001b[39m*\u001b[39;49margs, \u001b[39m*\u001b[39;49m\u001b[39m*\u001b[39;49mkwargs)\n\u001b[1;32m    514\u001b[0m \u001b[39mfinally\u001b[39;00m:\n\u001b[1;32m    515\u001b[0m     repr_running\u001b[39m.\u001b[39mdiscard(key)\n",
      "File \u001b[0;32m~/.local/lib/python3.10/site-packages/numpy/core/arrayprint.py:539\u001b[0m, in \u001b[0;36m_array2string\u001b[0;34m(a, options, separator, prefix)\u001b[0m\n\u001b[1;32m    536\u001b[0m     summary_insert \u001b[39m=\u001b[39m \u001b[39m\"\u001b[39m\u001b[39m\"\u001b[39m\n\u001b[1;32m    538\u001b[0m \u001b[39m# find the right formatting function for the array\u001b[39;00m\n\u001b[0;32m--> 539\u001b[0m format_function \u001b[39m=\u001b[39m _get_format_function(data, \u001b[39m*\u001b[39;49m\u001b[39m*\u001b[39;49moptions)\n\u001b[1;32m    541\u001b[0m \u001b[39m# skip over \"[\"\u001b[39;00m\n\u001b[1;32m    542\u001b[0m next_line_prefix \u001b[39m=\u001b[39m \u001b[39m\"\u001b[39m\u001b[39m \u001b[39m\u001b[39m\"\u001b[39m\n",
      "File \u001b[0;32m~/.local/lib/python3.10/site-packages/numpy/core/arrayprint.py:477\u001b[0m, in \u001b[0;36m_get_format_function\u001b[0;34m(data, **options)\u001b[0m\n\u001b[1;32m    475\u001b[0m         \u001b[39mreturn\u001b[39;00m formatdict[\u001b[39m'\u001b[39m\u001b[39mlongcomplexfloat\u001b[39m\u001b[39m'\u001b[39m]()\n\u001b[1;32m    476\u001b[0m     \u001b[39melse\u001b[39;00m:\n\u001b[0;32m--> 477\u001b[0m         \u001b[39mreturn\u001b[39;00m formatdict[\u001b[39m'\u001b[39;49m\u001b[39mcomplexfloat\u001b[39;49m\u001b[39m'\u001b[39;49m]()\n\u001b[1;32m    478\u001b[0m \u001b[39melif\u001b[39;00m \u001b[39missubclass\u001b[39m(dtypeobj, (_nt\u001b[39m.\u001b[39municode_, _nt\u001b[39m.\u001b[39mstring_)):\n\u001b[1;32m    479\u001b[0m     \u001b[39mreturn\u001b[39;00m formatdict[\u001b[39m'\u001b[39m\u001b[39mnumpystr\u001b[39m\u001b[39m'\u001b[39m]()\n",
      "File \u001b[0;32m~/.local/lib/python3.10/site-packages/numpy/core/arrayprint.py:415\u001b[0m, in \u001b[0;36m_get_formatdict.<locals>.<lambda>\u001b[0;34m()\u001b[0m\n\u001b[1;32m    403\u001b[0m \u001b[39mdef\u001b[39;00m \u001b[39m_get_formatdict\u001b[39m(data, \u001b[39m*\u001b[39m, precision, floatmode, suppress, sign, legacy,\n\u001b[1;32m    404\u001b[0m                     formatter, \u001b[39m*\u001b[39m\u001b[39m*\u001b[39mkwargs):\n\u001b[1;32m    405\u001b[0m     \u001b[39m# note: extra arguments in kwargs are ignored\u001b[39;00m\n\u001b[1;32m    406\u001b[0m \n\u001b[1;32m    407\u001b[0m     \u001b[39m# wrapped in lambdas to avoid taking a code path with the wrong type of data\u001b[39;00m\n\u001b[1;32m    408\u001b[0m     formatdict \u001b[39m=\u001b[39m {\n\u001b[1;32m    409\u001b[0m         \u001b[39m'\u001b[39m\u001b[39mbool\u001b[39m\u001b[39m'\u001b[39m: \u001b[39mlambda\u001b[39;00m: BoolFormat(data),\n\u001b[1;32m    410\u001b[0m         \u001b[39m'\u001b[39m\u001b[39mint\u001b[39m\u001b[39m'\u001b[39m: \u001b[39mlambda\u001b[39;00m: IntegerFormat(data),\n\u001b[1;32m    411\u001b[0m         \u001b[39m'\u001b[39m\u001b[39mfloat\u001b[39m\u001b[39m'\u001b[39m: \u001b[39mlambda\u001b[39;00m: FloatingFormat(\n\u001b[1;32m    412\u001b[0m             data, precision, floatmode, suppress, sign, legacy\u001b[39m=\u001b[39mlegacy),\n\u001b[1;32m    413\u001b[0m         \u001b[39m'\u001b[39m\u001b[39mlongfloat\u001b[39m\u001b[39m'\u001b[39m: \u001b[39mlambda\u001b[39;00m: FloatingFormat(\n\u001b[1;32m    414\u001b[0m             data, precision, floatmode, suppress, sign, legacy\u001b[39m=\u001b[39mlegacy),\n\u001b[0;32m--> 415\u001b[0m         \u001b[39m'\u001b[39m\u001b[39mcomplexfloat\u001b[39m\u001b[39m'\u001b[39m: \u001b[39mlambda\u001b[39;00m: ComplexFloatingFormat(\n\u001b[1;32m    416\u001b[0m             data, precision, floatmode, suppress, sign, legacy\u001b[39m=\u001b[39;49mlegacy),\n\u001b[1;32m    417\u001b[0m         \u001b[39m'\u001b[39m\u001b[39mlongcomplexfloat\u001b[39m\u001b[39m'\u001b[39m: \u001b[39mlambda\u001b[39;00m: ComplexFloatingFormat(\n\u001b[1;32m    418\u001b[0m             data, precision, floatmode, suppress, sign, legacy\u001b[39m=\u001b[39mlegacy),\n\u001b[1;32m    419\u001b[0m         \u001b[39m'\u001b[39m\u001b[39mdatetime\u001b[39m\u001b[39m'\u001b[39m: \u001b[39mlambda\u001b[39;00m: DatetimeFormat(data, legacy\u001b[39m=\u001b[39mlegacy),\n\u001b[1;32m    420\u001b[0m         \u001b[39m'\u001b[39m\u001b[39mtimedelta\u001b[39m\u001b[39m'\u001b[39m: \u001b[39mlambda\u001b[39;00m: TimedeltaFormat(data),\n\u001b[1;32m    421\u001b[0m         \u001b[39m'\u001b[39m\u001b[39mobject\u001b[39m\u001b[39m'\u001b[39m: \u001b[39mlambda\u001b[39;00m: _object_format,\n\u001b[1;32m    422\u001b[0m         \u001b[39m'\u001b[39m\u001b[39mvoid\u001b[39m\u001b[39m'\u001b[39m: \u001b[39mlambda\u001b[39;00m: str_format,\n\u001b[1;32m    423\u001b[0m         \u001b[39m'\u001b[39m\u001b[39mnumpystr\u001b[39m\u001b[39m'\u001b[39m: \u001b[39mlambda\u001b[39;00m: repr_format}\n\u001b[1;32m    425\u001b[0m     \u001b[39m# we need to wrap values in `formatter` in a lambda, so that the interface\u001b[39;00m\n\u001b[1;32m    426\u001b[0m     \u001b[39m# is the same as the above values.\u001b[39;00m\n\u001b[1;32m    427\u001b[0m     \u001b[39mdef\u001b[39;00m \u001b[39mindirect\u001b[39m(x):\n",
      "File \u001b[0;32m~/.local/lib/python3.10/site-packages/numpy/core/arrayprint.py:1258\u001b[0m, in \u001b[0;36mComplexFloatingFormat.__init__\u001b[0;34m(self, x, precision, floatmode, suppress_small, sign, legacy)\u001b[0m\n\u001b[1;32m   1255\u001b[0m     floatmode_real \u001b[39m=\u001b[39m \u001b[39m'\u001b[39m\u001b[39mmaxprec_equal\u001b[39m\u001b[39m'\u001b[39m\n\u001b[1;32m   1256\u001b[0m     floatmode_imag \u001b[39m=\u001b[39m \u001b[39m'\u001b[39m\u001b[39mmaxprec\u001b[39m\u001b[39m'\u001b[39m\n\u001b[0;32m-> 1258\u001b[0m \u001b[39mself\u001b[39m\u001b[39m.\u001b[39mreal_format \u001b[39m=\u001b[39m FloatingFormat(\n\u001b[1;32m   1259\u001b[0m     x\u001b[39m.\u001b[39;49mreal, precision, floatmode_real, suppress_small,\n\u001b[1;32m   1260\u001b[0m     sign\u001b[39m=\u001b[39;49msign, legacy\u001b[39m=\u001b[39;49mlegacy\n\u001b[1;32m   1261\u001b[0m )\n\u001b[1;32m   1262\u001b[0m \u001b[39mself\u001b[39m\u001b[39m.\u001b[39mimag_format \u001b[39m=\u001b[39m FloatingFormat(\n\u001b[1;32m   1263\u001b[0m     x\u001b[39m.\u001b[39mimag, precision, floatmode_imag, suppress_small,\n\u001b[1;32m   1264\u001b[0m     sign\u001b[39m=\u001b[39m\u001b[39m'\u001b[39m\u001b[39m+\u001b[39m\u001b[39m'\u001b[39m, legacy\u001b[39m=\u001b[39mlegacy\n\u001b[1;32m   1265\u001b[0m )\n",
      "File \u001b[0;32m~/.local/lib/python3.10/site-packages/numpy/core/arrayprint.py:932\u001b[0m, in \u001b[0;36mFloatingFormat.__init__\u001b[0;34m(self, data, precision, floatmode, suppress_small, sign, legacy)\u001b[0m\n\u001b[1;32m    929\u001b[0m \u001b[39mself\u001b[39m\u001b[39m.\u001b[39mexp_format \u001b[39m=\u001b[39m \u001b[39mFalse\u001b[39;00m\n\u001b[1;32m    930\u001b[0m \u001b[39mself\u001b[39m\u001b[39m.\u001b[39mlarge_exponent \u001b[39m=\u001b[39m \u001b[39mFalse\u001b[39;00m\n\u001b[0;32m--> 932\u001b[0m \u001b[39mself\u001b[39;49m\u001b[39m.\u001b[39;49mfillFormat(data)\n",
      "File \u001b[0;32m~/.local/lib/python3.10/site-packages/numpy/core/arrayprint.py:964\u001b[0m, in \u001b[0;36mFloatingFormat.fillFormat\u001b[0;34m(self, data)\u001b[0m\n\u001b[1;32m    960\u001b[0m strs \u001b[39m=\u001b[39m (dragon4_scientific(x, precision\u001b[39m=\u001b[39m\u001b[39mself\u001b[39m\u001b[39m.\u001b[39mprecision,\n\u001b[1;32m    961\u001b[0m                    unique\u001b[39m=\u001b[39munique, trim\u001b[39m=\u001b[39mtrim, sign\u001b[39m=\u001b[39m\u001b[39mself\u001b[39m\u001b[39m.\u001b[39msign \u001b[39m==\u001b[39m \u001b[39m'\u001b[39m\u001b[39m+\u001b[39m\u001b[39m'\u001b[39m)\n\u001b[1;32m    962\u001b[0m         \u001b[39mfor\u001b[39;00m x \u001b[39min\u001b[39;00m finite_vals)\n\u001b[1;32m    963\u001b[0m frac_strs, _, exp_strs \u001b[39m=\u001b[39m \u001b[39mzip\u001b[39m(\u001b[39m*\u001b[39m(s\u001b[39m.\u001b[39mpartition(\u001b[39m'\u001b[39m\u001b[39me\u001b[39m\u001b[39m'\u001b[39m) \u001b[39mfor\u001b[39;00m s \u001b[39min\u001b[39;00m strs))\n\u001b[0;32m--> 964\u001b[0m int_part, frac_part \u001b[39m=\u001b[39m \u001b[39mzip\u001b[39;49m(\u001b[39m*\u001b[39;49m(s\u001b[39m.\u001b[39;49msplit(\u001b[39m'\u001b[39;49m\u001b[39m.\u001b[39;49m\u001b[39m'\u001b[39;49m) \u001b[39mfor\u001b[39;49;00m s \u001b[39min\u001b[39;49;00m frac_strs))\n\u001b[1;32m    965\u001b[0m \u001b[39mself\u001b[39m\u001b[39m.\u001b[39mexp_size \u001b[39m=\u001b[39m \u001b[39mmax\u001b[39m(\u001b[39mlen\u001b[39m(s) \u001b[39mfor\u001b[39;00m s \u001b[39min\u001b[39;00m exp_strs) \u001b[39m-\u001b[39m \u001b[39m1\u001b[39m\n\u001b[1;32m    967\u001b[0m \u001b[39mself\u001b[39m\u001b[39m.\u001b[39mtrim \u001b[39m=\u001b[39m \u001b[39m'\u001b[39m\u001b[39mk\u001b[39m\u001b[39m'\u001b[39m\n",
      "\u001b[0;31mKeyboardInterrupt\u001b[0m: "
     ]
    }
   ],
   "source": [
    "problem.run(tstart, tstop)"
   ]
  },
  {
   "cell_type": "code",
   "execution_count": null,
   "metadata": {},
   "outputs": [],
   "source": []
  }
 ],
 "metadata": {
  "kernelspec": {
   "display_name": "Python 3",
   "language": "python",
   "name": "python3"
  },
  "language_info": {
   "codemirror_mode": {
    "name": "ipython",
    "version": 3
   },
   "file_extension": ".py",
   "mimetype": "text/x-python",
   "name": "python",
   "nbconvert_exporter": "python",
   "pygments_lexer": "ipython3",
   "version": "3.10.7"
  },
  "orig_nbformat": 4,
  "vscode": {
   "interpreter": {
    "hash": "916dbcbb3f70747c44a77c7bcd40155683ae19c65e1c03b4aa3499c5328201f1"
   }
  }
 },
 "nbformat": 4,
 "nbformat_minor": 2
}
