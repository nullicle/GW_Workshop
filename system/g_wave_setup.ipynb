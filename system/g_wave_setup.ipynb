{
 "cells": [
  {
   "cell_type": "code",
   "execution_count": 1,
   "metadata": {},
   "outputs": [],
   "source": [
    "import sys\n",
    "import os\n",
    "import numpy as np\n",
    "import h5py\n",
    "import argparse\n",
    "from mpi4py import MPI\n",
    "\n",
    "from coffee import ibvp, actions, solvers, grid\n",
    "from coffee.diffop import fd\n",
    "from coffee.diffop.sbp import sbp\n",
    "\n",
    "import g_wave\n",
    "import gwave_plotter as gw_plotter\n",
    "\n",
    "np.set_printoptions(threshold=np.inf, precision=16)"
   ]
  },
  {
   "cell_type": "code",
   "execution_count": 2,
   "metadata": {},
   "outputs": [],
   "source": [
    "N      = 400\n",
    "a      = 32.\n",
    "A      = 4.\n",
    "pl     = [0.]\n",
    "pr     = [0.]\n",
    "\n",
    "tau    = 1.\n",
    "CFL    = 0.2\n",
    "\n",
    "zstart = -2.\n",
    "zstop  = 2.\n",
    "tstart = 0.\n",
    "tstop  = 1000.\n",
    "\n",
    "store_output = False\n",
    "filename     = \"{N}.hdf\"\n",
    "\n",
    "display_output = False"
   ]
  },
  {
   "cell_type": "code",
   "execution_count": 3,
   "metadata": {},
   "outputs": [],
   "source": [
    "diffop = sbp.D43_Strand(sbp.BOUNDARY_TYPE_GHOST_POINTS)"
   ]
  },
  {
   "cell_type": "code",
   "execution_count": 4,
   "metadata": {},
   "outputs": [],
   "source": [
    "dims = MPI.Compute_dims(MPI.COMM_WORLD.size, [0])                                    \n",
    "periods = [0]                                                                        \n",
    "reorder = True                                                                       \n",
    "mpi_comm = MPI.COMM_WORLD.Create_cart(dims, periods=periods, reorder=reorder)        \n"
   ]
  },
  {
   "cell_type": "code",
   "execution_count": 5,
   "metadata": {},
   "outputs": [],
   "source": [
    "ghost_points = (diffop.ghost_points(),)\n",
    "internal_points = (diffop.internal_points(),)\n",
    "b_data = grid.MPIBoundary(\n",
    "    ghost_points, \n",
    "    internal_points, \n",
    "    mpi_comm=mpi_comm, \n",
    "    number_of_dimensions=1\n",
    ")\n",
    "\n",
    "grid = grid.UniformCart(\n",
    "        (N,), \n",
    "        [[zstart,zstop]],\n",
    "        comparison = N,\n",
    "        mpi_comm = mpi_comm,\n",
    "        boundary_data=b_data\n",
    "    )\n",
    "\n",
    "global_z = np.linspace(zstart, zstop, N+1)"
   ]
  },
  {
   "cell_type": "code",
   "execution_count": 12,
   "metadata": {},
   "outputs": [],
   "source": [
    "system = g_wave.G_wave(\\\n",
    "        diffop, tau, global_z, \n",
    "        CFL = CFL, \n",
    "        amplitude = a,\n",
    "        A=A,\n",
    "        pl = pl, pr = pr\n",
    "        )"
   ]
  },
  {
   "cell_type": "code",
   "execution_count": 13,
   "metadata": {},
   "outputs": [],
   "source": [
    "solver = solvers.RungeKutta4(system)\n",
    "maxIteration = 10000000"
   ]
  },
  {
   "cell_type": "code",
   "execution_count": 14,
   "metadata": {},
   "outputs": [],
   "source": [
    "if store_output and mpi_comm.rank==0:\n",
    "    hdf_file = h5py.File(filename, \"w\")"
   ]
  },
  {
   "cell_type": "code",
   "execution_count": 15,
   "metadata": {},
   "outputs": [],
   "source": [
    "output_actions = [\n",
    "    actions.SimOutput.Data(),\n",
    "    actions.SimOutput.Times()\n",
    "    ]"
   ]
  },
  {
   "cell_type": "code",
   "execution_count": 16,
   "metadata": {},
   "outputs": [],
   "source": [
    "    actionList = []\n",
    "    if store_output and mpi_comm.rank == 0:\n",
    "        actionList += [actions.SimOutput(\\\n",
    "            hdf_file,\\\n",
    "            solver, \\\n",
    "            system, \\\n",
    "            grid, \\\n",
    "            output_actions,\\\n",
    "            overwrite = True,\\\n",
    "            name = grid.name,\\\n",
    "            cmp_ = grid.comparison\\\n",
    "            )]\n",
    "    if display_output and mpi_comm.rank == 0:\n",
    "        actionList += [gw_plotter.Plotter(\n",
    "            system,\n",
    "            frequency = 10, \n",
    "            xlim = (zstart, zstop),\n",
    "            ylim = [-a*1.1, a*1.1], \n",
    "            findex = (7,8,3,4,5,6,2), \n",
    "            delay = 0.0001\n",
    "        )]\n",
    "    problem = ibvp.IBVP(solver, system, grid = grid,\\\n",
    "            maxIteration = 1000000, action = actionList,\\\n",
    "            minTimestep = 1e-6)"
   ]
  },
  {
   "cell_type": "code",
   "execution_count": 17,
   "metadata": {},
   "outputs": [
    {
     "name": "stdout",
     "output_type": "stream",
     "text": [
      "0.0\n",
      "0.0010000000000000009\n",
      "0.0010000000000000009\n",
      "0.0020000000000000018\n",
      "0.0020000000000000018\n",
      "0.0030000000000000027\n",
      "0.0030000000000000027\n",
      "0.0040000000000000036\n",
      "0.0040000000000000036\n",
      "0.0050000000000000044\n",
      "0.0050000000000000044\n",
      "0.006000000000000005\n",
      "0.006000000000000005\n",
      "0.007000000000000006\n",
      "0.007000000000000006\n",
      "0.008000000000000007\n"
     ]
    },
    {
     "ename": "KeyboardInterrupt",
     "evalue": "",
     "output_type": "error",
     "traceback": [
      "\u001b[0;31m---------------------------------------------------------------------------\u001b[0m",
      "\u001b[0;31mKeyboardInterrupt\u001b[0m                         Traceback (most recent call last)",
      "Cell \u001b[0;32mIn[17], line 1\u001b[0m\n\u001b[0;32m----> 1\u001b[0m problem\u001b[39m.\u001b[39;49mrun(tstart, tstop)\n",
      "File \u001b[0;32m~/pCloudDrive/PCLOUD/Talks/Workshop_NZ_Gravity_SS_2023/GW_Workshop/packages/coffee/ibvp.py:153\u001b[0m, in \u001b[0;36mIBVP.run\u001b[0;34m(self, tstart, tstop, thits)\u001b[0m\n\u001b[1;32m    149\u001b[0m \t\u001b[39mself\u001b[39m\u001b[39m.\u001b[39mlog\u001b[39m.\u001b[39mdebug(\n\u001b[1;32m    150\u001b[0m \t\t\u001b[39m\"\u001b[39m\u001b[39mAbout to advance for iteration = \u001b[39m\u001b[39m%i\u001b[39;00m\u001b[39m\"\u001b[39m\u001b[39m%\u001b[39m\u001b[39mself\u001b[39m\u001b[39m.\u001b[39miteration\n\u001b[1;32m    151\u001b[0m \t)\n\u001b[1;32m    152\u001b[0m \u001b[39mtry\u001b[39;00m:\n\u001b[0;32m--> 153\u001b[0m \tt, u \u001b[39m=\u001b[39m advance(t, u, dt)\n\u001b[1;32m    154\u001b[0m \u001b[39mexcept\u001b[39;00m \u001b[39mOverflowError\u001b[39;00m \u001b[39mas\u001b[39;00m e:\n\u001b[1;32m    155\u001b[0m \n\u001b[1;32m    156\u001b[0m \t\u001b[39m# OverflowErrors arn't always appropirately handled. So we\u001b[39;00m\n\u001b[1;32m    157\u001b[0m \t\u001b[39m# do it ourselves here.\u001b[39;00m\n\u001b[1;32m    158\u001b[0m \t\u001b[39mprint\u001b[39m(\u001b[39m\"\u001b[39m\u001b[39mOverflow error(\u001b[39m\u001b[39m{0}\u001b[39;00m\u001b[39m): \u001b[39m\u001b[39m{1}\u001b[39;00m\u001b[39m\"\u001b[39m\u001b[39m.\u001b[39mformat(e\u001b[39m.\u001b[39merrno, e\u001b[39m.\u001b[39mstrerror))\n",
      "File \u001b[0;32m~/pCloudDrive/PCLOUD/Talks/Workshop_NZ_Gravity_SS_2023/GW_Workshop/packages/coffee/solvers/solvers.py:225\u001b[0m, in \u001b[0;36mRungeKutta4.advance\u001b[0;34m(self, t0, u0, dt)\u001b[0m\n\u001b[1;32m    223\u001b[0m u \u001b[39m=\u001b[39m u0\n\u001b[1;32m    224\u001b[0m t \u001b[39m=\u001b[39m t0\n\u001b[0;32m--> 225\u001b[0m k \u001b[39m=\u001b[39m eqn\u001b[39m.\u001b[39;49mevaluate(t, u)\n\u001b[1;32m    226\u001b[0m \u001b[39mif\u001b[39;00m False:\n\u001b[1;32m    227\u001b[0m     \u001b[39mself\u001b[39m\u001b[39m.\u001b[39mlog\u001b[39m.\u001b[39mdebug(\u001b[39m\"\u001b[39m\u001b[39mFirst evaluate, k = \u001b[39m\u001b[39m%s\u001b[39;00m\u001b[39m\"\u001b[39m\u001b[39m%\u001b[39m\u001b[39mrepr\u001b[39m(k))\n",
      "File \u001b[0;32m~/pCloudDrive/PCLOUD/Talks/Workshop_NZ_Gravity_SS_2023/GW_Workshop/system/g_wave.py:90\u001b[0m, in \u001b[0;36mG_wave.evaluate\u001b[0;34m(self, t, U)\u001b[0m\n\u001b[1;32m     87\u001b[0m f \u001b[39m=\u001b[39m fp \u001b[39m=\u001b[39m fd \u001b[39m=\u001b[39m \u001b[39m0.\u001b[39m\n\u001b[1;32m     89\u001b[0m chi  \u001b[39m=\u001b[39m rhop \u001b[39m-\u001b[39m rho\n\u001b[0;32m---> 90\u001b[0m chip \u001b[39m=\u001b[39m \u001b[39mself\u001b[39m\u001b[39m.\u001b[39mD(rhop,dz) \u001b[39m-\u001b[39m \u001b[39mself\u001b[39m\u001b[39m.\u001b[39mD(rho,dz)\n\u001b[1;32m     91\u001b[0m chid \u001b[39m=\u001b[39m \u001b[39m2.\u001b[39m\u001b[39m*\u001b[39m\u001b[39m*\u001b[39m(\u001b[39m-\u001b[39m\u001b[39m0.5\u001b[39m) \u001b[39m*\u001b[39m ((\u001b[39m-\u001b[39m\u001b[39m1.\u001b[39m) \u001b[39m*\u001b[39m (\u001b[39m2.\u001b[39m \u001b[39m*\u001b[39m chi \u001b[39m+\u001b[39m \u001b[39m3.\u001b[39m \u001b[39m*\u001b[39m rho \u001b[39m+\u001b[39m (\u001b[39m-\u001b[39m\u001b[39m3.\u001b[39m) \u001b[39m*\u001b[39m rhop) \\\n\u001b[1;32m     92\u001b[0m \t\u001b[39m*\u001b[39m (rho \u001b[39m+\u001b[39m rhop) \u001b[39m+\u001b[39m (\u001b[39m-\u001b[39m\u001b[39m1.\u001b[39m) \u001b[39m*\u001b[39m sigma \u001b[39m*\u001b[39m sigmab \u001b[39m+\u001b[39m sigmapb \u001b[39m*\u001b[39m sigmap)\n\u001b[1;32m     94\u001b[0m F  \u001b[39m=\u001b[39m chi \u001b[39m+\u001b[39m \u001b[39m1.\u001b[39mj\u001b[39m*\u001b[39mf\n",
      "File \u001b[0;32m~/pCloudDrive/PCLOUD/Talks/Workshop_NZ_Gravity_SS_2023/GW_Workshop/packages/coffee/diffop/sbp/sbp.py:120\u001b[0m, in \u001b[0;36mSBP.__call__\u001b[0;34m(self, u, dx, boundary_ID)\u001b[0m\n\u001b[1;32m    118\u001b[0m         \u001b[39mself\u001b[39m\u001b[39m.\u001b[39mlog\u001b[39m.\u001b[39mdebug(\u001b[39m\"\u001b[39m\u001b[39mApplying right boundary region computation\u001b[39m\u001b[39m\"\u001b[39m)    \n\u001b[1;32m    119\u001b[0m \u001b[39mif\u001b[39;00m False:\n\u001b[0;32m--> 120\u001b[0m     \u001b[39mself\u001b[39m\u001b[39m.\u001b[39mlog\u001b[39m.\u001b[39mdebug(\u001b[39m\"\u001b[39m\u001b[39mAfter boundary conditions: du = \u001b[39m\u001b[39m%s\u001b[39;00m\u001b[39m\"\u001b[39m\u001b[39m%\u001b[39m\u001b[39mrepr\u001b[39;49m(du))\n\u001b[1;32m    121\u001b[0m \u001b[39mreturn\u001b[39;00m du\u001b[39m/\u001b[39m(dx\u001b[39m*\u001b[39m\u001b[39m*\u001b[39m\u001b[39mself\u001b[39m\u001b[39m.\u001b[39morder)\n",
      "File \u001b[0;32m~/.local/lib/python3.10/site-packages/numpy/core/arrayprint.py:1488\u001b[0m, in \u001b[0;36m_array_repr_implementation\u001b[0;34m(arr, max_line_width, precision, suppress_small, array2string)\u001b[0m\n\u001b[1;32m   1486\u001b[0m     lst \u001b[39m=\u001b[39m \u001b[39mrepr\u001b[39m(arr\u001b[39m.\u001b[39mitem())\n\u001b[1;32m   1487\u001b[0m \u001b[39melif\u001b[39;00m arr\u001b[39m.\u001b[39msize \u001b[39m>\u001b[39m \u001b[39m0\u001b[39m \u001b[39mor\u001b[39;00m arr\u001b[39m.\u001b[39mshape \u001b[39m==\u001b[39m (\u001b[39m0\u001b[39m,):\n\u001b[0;32m-> 1488\u001b[0m     lst \u001b[39m=\u001b[39m array2string(arr, max_line_width, precision, suppress_small,\n\u001b[1;32m   1489\u001b[0m                        \u001b[39m'\u001b[39;49m\u001b[39m, \u001b[39;49m\u001b[39m'\u001b[39;49m, prefix, suffix\u001b[39m=\u001b[39;49msuffix)\n\u001b[1;32m   1490\u001b[0m \u001b[39melse\u001b[39;00m:  \u001b[39m# show zero-length shape unless it is (0,)\u001b[39;00m\n\u001b[1;32m   1491\u001b[0m     lst \u001b[39m=\u001b[39m \u001b[39m\"\u001b[39m\u001b[39m[], shape=\u001b[39m\u001b[39m%s\u001b[39;00m\u001b[39m\"\u001b[39m \u001b[39m%\u001b[39m (\u001b[39mrepr\u001b[39m(arr\u001b[39m.\u001b[39mshape),)\n",
      "File \u001b[0;32m~/.local/lib/python3.10/site-packages/numpy/core/arrayprint.py:736\u001b[0m, in \u001b[0;36marray2string\u001b[0;34m(a, max_line_width, precision, suppress_small, separator, prefix, style, formatter, threshold, edgeitems, sign, floatmode, suffix, legacy)\u001b[0m\n\u001b[1;32m    733\u001b[0m \u001b[39mif\u001b[39;00m a\u001b[39m.\u001b[39msize \u001b[39m==\u001b[39m \u001b[39m0\u001b[39m:\n\u001b[1;32m    734\u001b[0m     \u001b[39mreturn\u001b[39;00m \u001b[39m\"\u001b[39m\u001b[39m[]\u001b[39m\u001b[39m\"\u001b[39m\n\u001b[0;32m--> 736\u001b[0m \u001b[39mreturn\u001b[39;00m _array2string(a, options, separator, prefix)\n",
      "File \u001b[0;32m~/.local/lib/python3.10/site-packages/numpy/core/arrayprint.py:513\u001b[0m, in \u001b[0;36m_recursive_guard.<locals>.decorating_function.<locals>.wrapper\u001b[0;34m(self, *args, **kwargs)\u001b[0m\n\u001b[1;32m    511\u001b[0m repr_running\u001b[39m.\u001b[39madd(key)\n\u001b[1;32m    512\u001b[0m \u001b[39mtry\u001b[39;00m:\n\u001b[0;32m--> 513\u001b[0m     \u001b[39mreturn\u001b[39;00m f(\u001b[39mself\u001b[39;49m, \u001b[39m*\u001b[39;49margs, \u001b[39m*\u001b[39;49m\u001b[39m*\u001b[39;49mkwargs)\n\u001b[1;32m    514\u001b[0m \u001b[39mfinally\u001b[39;00m:\n\u001b[1;32m    515\u001b[0m     repr_running\u001b[39m.\u001b[39mdiscard(key)\n",
      "File \u001b[0;32m~/.local/lib/python3.10/site-packages/numpy/core/arrayprint.py:546\u001b[0m, in \u001b[0;36m_array2string\u001b[0;34m(a, options, separator, prefix)\u001b[0m\n\u001b[1;32m    543\u001b[0m \u001b[39m# skip over array(\u001b[39;00m\n\u001b[1;32m    544\u001b[0m next_line_prefix \u001b[39m+\u001b[39m\u001b[39m=\u001b[39m \u001b[39m\"\u001b[39m\u001b[39m \u001b[39m\u001b[39m\"\u001b[39m\u001b[39m*\u001b[39m\u001b[39mlen\u001b[39m(prefix)\n\u001b[0;32m--> 546\u001b[0m lst \u001b[39m=\u001b[39m _formatArray(a, format_function, options[\u001b[39m'\u001b[39;49m\u001b[39mlinewidth\u001b[39;49m\u001b[39m'\u001b[39;49m],\n\u001b[1;32m    547\u001b[0m                    next_line_prefix, separator, options[\u001b[39m'\u001b[39;49m\u001b[39medgeitems\u001b[39;49m\u001b[39m'\u001b[39;49m],\n\u001b[1;32m    548\u001b[0m                    summary_insert, options[\u001b[39m'\u001b[39;49m\u001b[39mlegacy\u001b[39;49m\u001b[39m'\u001b[39;49m])\n\u001b[1;32m    549\u001b[0m \u001b[39mreturn\u001b[39;00m lst\n",
      "File \u001b[0;32m~/.local/lib/python3.10/site-packages/numpy/core/arrayprint.py:889\u001b[0m, in \u001b[0;36m_formatArray\u001b[0;34m(a, format_function, line_width, next_line_prefix, separator, edge_items, summary_insert, legacy)\u001b[0m\n\u001b[1;32m    885\u001b[0m     \u001b[39mreturn\u001b[39;00m s\n\u001b[1;32m    887\u001b[0m \u001b[39mtry\u001b[39;00m:\n\u001b[1;32m    888\u001b[0m     \u001b[39m# invoke the recursive part with an initial index and prefix\u001b[39;00m\n\u001b[0;32m--> 889\u001b[0m     \u001b[39mreturn\u001b[39;00m recurser(index\u001b[39m=\u001b[39;49m(),\n\u001b[1;32m    890\u001b[0m                     hanging_indent\u001b[39m=\u001b[39;49mnext_line_prefix,\n\u001b[1;32m    891\u001b[0m                     curr_width\u001b[39m=\u001b[39;49mline_width)\n\u001b[1;32m    892\u001b[0m \u001b[39mfinally\u001b[39;00m:\n\u001b[1;32m    893\u001b[0m     \u001b[39m# recursive closures have a cyclic reference to themselves, which\u001b[39;00m\n\u001b[1;32m    894\u001b[0m     \u001b[39m# requires gc to collect (gh-10620). To avoid this problem, for\u001b[39;00m\n\u001b[1;32m    895\u001b[0m     \u001b[39m# performance and PyPy friendliness, we break the cycle:\u001b[39;00m\n\u001b[1;32m    896\u001b[0m     recurser \u001b[39m=\u001b[39m \u001b[39mNone\u001b[39;00m\n",
      "File \u001b[0;32m~/.local/lib/python3.10/site-packages/numpy/core/arrayprint.py:845\u001b[0m, in \u001b[0;36m_formatArray.<locals>.recurser\u001b[0;34m(index, hanging_indent, curr_width)\u001b[0m\n\u001b[1;32m    842\u001b[0m         line \u001b[39m+\u001b[39m\u001b[39m=\u001b[39m separator\n\u001b[1;32m    844\u001b[0m \u001b[39mfor\u001b[39;00m i \u001b[39min\u001b[39;00m \u001b[39mrange\u001b[39m(trailing_items, \u001b[39m1\u001b[39m, \u001b[39m-\u001b[39m\u001b[39m1\u001b[39m):\n\u001b[0;32m--> 845\u001b[0m     word \u001b[39m=\u001b[39m recurser(index \u001b[39m+\u001b[39;49m (\u001b[39m-\u001b[39;49mi,), next_hanging_indent, next_width)\n\u001b[1;32m    846\u001b[0m     s, line \u001b[39m=\u001b[39m _extendLine_pretty(\n\u001b[1;32m    847\u001b[0m         s, line, word, elem_width, hanging_indent, legacy)\n\u001b[1;32m    848\u001b[0m     line \u001b[39m+\u001b[39m\u001b[39m=\u001b[39m separator\n",
      "File \u001b[0;32m~/.local/lib/python3.10/site-packages/numpy/core/arrayprint.py:799\u001b[0m, in \u001b[0;36m_formatArray.<locals>.recurser\u001b[0;34m(index, hanging_indent, curr_width)\u001b[0m\n\u001b[1;32m    796\u001b[0m axes_left \u001b[39m=\u001b[39m a\u001b[39m.\u001b[39mndim \u001b[39m-\u001b[39m axis\n\u001b[1;32m    798\u001b[0m \u001b[39mif\u001b[39;00m axes_left \u001b[39m==\u001b[39m \u001b[39m0\u001b[39m:\n\u001b[0;32m--> 799\u001b[0m     \u001b[39mreturn\u001b[39;00m format_function(a[index])\n\u001b[1;32m    801\u001b[0m \u001b[39m# when recursing, add a space to align with the [ added, and reduce the\u001b[39;00m\n\u001b[1;32m    802\u001b[0m \u001b[39m# length of the line by 1\u001b[39;00m\n\u001b[1;32m    803\u001b[0m next_hanging_indent \u001b[39m=\u001b[39m hanging_indent \u001b[39m+\u001b[39m \u001b[39m'\u001b[39m\u001b[39m \u001b[39m\u001b[39m'\u001b[39m\n",
      "\u001b[0;31mKeyboardInterrupt\u001b[0m: "
     ]
    }
   ],
   "source": [
    "problem.run(tstart, tstop)"
   ]
  },
  {
   "cell_type": "code",
   "execution_count": null,
   "metadata": {},
   "outputs": [],
   "source": []
  }
 ],
 "metadata": {
  "kernelspec": {
   "display_name": "Python 3",
   "language": "python",
   "name": "python3"
  },
  "language_info": {
   "codemirror_mode": {
    "name": "ipython",
    "version": 3
   },
   "file_extension": ".py",
   "mimetype": "text/x-python",
   "name": "python",
   "nbconvert_exporter": "python",
   "pygments_lexer": "ipython3",
   "version": "3.10.7"
  },
  "orig_nbformat": 4,
  "vscode": {
   "interpreter": {
    "hash": "916dbcbb3f70747c44a77c7bcd40155683ae19c65e1c03b4aa3499c5328201f1"
   }
  }
 },
 "nbformat": 4,
 "nbformat_minor": 2
}
