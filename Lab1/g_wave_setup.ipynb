{
 "cells": [
  {
   "cell_type": "code",
   "execution_count": null,
   "metadata": {},
   "outputs": [],
   "source": [
    "\"\"\"\n",
    "g_wave_setup.ipynb\n",
    "\n",
    "Created by Chris Stevens 2023\n",
    "Copyright (c) 2023 University of Canterbury. All rights reserved.\n",
    "\"\"\"\n",
    "\n",
    "################################################################################\n",
    "# Import required libraries\n",
    "################################################################################\n",
    "\n",
    "import numpy as np\n",
    "import h5py\n",
    "from mpi4py import MPI\n",
    "\n",
    "from coffee import ibvp, actions, solvers, grid\n",
    "from coffee.diffop.sbp import sbp\n",
    "\n",
    "import g_wave\n",
    "import g_wave_plotter_2 as gw_plotter\n",
    "\n",
    "np.set_printoptions(threshold=np.inf, precision=16)"
   ]
  },
  {
   "cell_type": "code",
   "execution_count": null,
   "metadata": {},
   "outputs": [],
   "source": [
    "################################################################################\n",
    "# Simulation parameters\n",
    "################################################################################\n",
    "\n",
    "N      = 200   # Number of sptial intervals (number of points  - 1)\n",
    "a      = 32.   # Amplitude of the waves\n",
    "A      = 4.    # A function related to the scale of the spatial direction\n",
    "pl     = [0.]  # An array of polarisations for the wave(s) travelling rightward\n",
    "pr     = [0.]  # An array of polarisations for the wave(s) travelling leftward\n",
    "\n",
    "tau    = 1.    # A parameter for the SAT method (greater than or equal to 1)\n",
    "CFL    = 0.2   # The Courant-Friedrichs-Lewy number (less than or equal to 1)\n",
    "\n",
    "zstart = -1.   # Lower bound for grid\n",
    "zstop  = 1.    # Lower bound for grid\n",
    "tstart = 0.    # Start of simulation\n",
    "tstop  = 1.    # Stop of simulation\n",
    "\n",
    "store_output = False      # Output HDF5 data\n",
    "filename     = str(N) + '_order2.hdf'  # Name of HDF5 file\n",
    "\n",
    "display_output = True     # Display animation during simulation"
   ]
  },
  {
   "cell_type": "code",
   "execution_count": null,
   "metadata": {},
   "outputs": [],
   "source": [
    "################################################################################\n",
    "# Instantiate the operator which approximates spatial derivatives\n",
    "################################################################################\n",
    "\n",
    "# Second-order finite difference operator\n",
    "diffop = sbp.D21_CNG(sbp.BOUNDARY_TYPE_GHOST_POINTS)\n",
    "\n",
    "# Fourth-order finite difference operator\n",
    "# diffop = sbp.D43_Strand(sbp.BOUNDARY_TYPE_GHOST_POINTS)"
   ]
  },
  {
   "cell_type": "code",
   "execution_count": null,
   "metadata": {},
   "outputs": [],
   "source": [
    "################################################################################\n",
    "# MPI setup\n",
    "################################################################################\n",
    "\n",
    "dims = MPI.Compute_dims(MPI.COMM_WORLD.size, [0])                                    \n",
    "periods = [0]                                                                        \n",
    "reorder = True                                                                       \n",
    "mpi_comm = MPI.COMM_WORLD.Create_cart(dims, periods=periods, reorder=reorder)        \n"
   ]
  },
  {
   "cell_type": "code",
   "execution_count": null,
   "metadata": {},
   "outputs": [],
   "source": [
    "################################################################################\n",
    "# Grid setup\n",
    "################################################################################\n",
    "\n",
    "ghost_points = (diffop.ghost_points(),)\n",
    "internal_points = (diffop.internal_points(),)\n",
    "b_data = grid.MPIBoundary(\n",
    "    ghost_points, \n",
    "    internal_points, \n",
    "    mpi_comm=mpi_comm, \n",
    "    number_of_dimensions=1\n",
    ")\n",
    "\n",
    "grid = grid.UniformCart(\n",
    "        (N,), \n",
    "        [[zstart,zstop]],\n",
    "        comparison = N,\n",
    "        mpi_comm = mpi_comm,\n",
    "        boundary_data=b_data\n",
    "    )\n",
    "\n",
    "global_z = np.linspace(zstart, zstop, N+1)"
   ]
  },
  {
   "cell_type": "code",
   "execution_count": null,
   "metadata": {},
   "outputs": [],
   "source": [
    "################################################################################\n",
    "# Instantiate the system\n",
    "################################################################################\n",
    "\n",
    "system = g_wave.G_wave(\\\n",
    "        diffop, tau, global_z, \n",
    "        CFL = CFL, \n",
    "        amplitude = a,\n",
    "        A=A,\n",
    "        pl = pl, pr = pr\n",
    "        )"
   ]
  },
  {
   "cell_type": "code",
   "execution_count": null,
   "metadata": {},
   "outputs": [],
   "source": [
    "################################################################################\n",
    "# Instantiate the solver\n",
    "################################################################################\n",
    "\n",
    "solver = solvers.RungeKutta4(system)\n",
    "maxIteration = 10000000"
   ]
  },
  {
   "cell_type": "code",
   "execution_count": null,
   "metadata": {},
   "outputs": [],
   "source": [
    "################################################################################\n",
    "# Details for file output when necessary\n",
    "################################################################################\n",
    "\n",
    "if store_output and mpi_comm.rank == 0:\n",
    "    hdf_file = h5py.File(filename, \"w\")\n",
    "    output_actions = [\n",
    "    actions.SimOutput.Data(),\n",
    "    actions.SimOutput.Times(),\n",
    "    actions.SimOutput.Domains(),\n",
    "    actions.SimOutput.Constraints()\n",
    "    ]"
   ]
  },
  {
   "cell_type": "code",
   "execution_count": null,
   "metadata": {},
   "outputs": [],
   "source": [
    "################################################################################\n",
    "# Instantiate the IBVP problem\n",
    "################################################################################\n",
    "   \n",
    "actionList = []\n",
    "if store_output and mpi_comm.rank == 0:\n",
    "    actionList += [actions.SimOutput(\\\n",
    "        hdf_file,\\\n",
    "        solver, \\\n",
    "        system, \\\n",
    "        grid, \\\n",
    "        output_actions,\\\n",
    "        overwrite = True,\\\n",
    "        name = grid.name,\\\n",
    "        cmp_ = grid.comparison\\\n",
    "        )];\n",
    "if display_output and mpi_comm.rank == 0:\n",
    "    actionList += [gw_plotter.Plotter(\n",
    "        system,\n",
    "        frequency = 10, \n",
    "        xlim = (zstart, zstop),\n",
    "        ylim = [-a*0.1, a*1.1], \n",
    "        findex = (7,8,3,4,5,6),\n",
    "        labels = (r\"$\\Psi_0$\",r\"$\\Psi_4$\",r\"$\\rho$\",r\"$\\rho$'\", \\\n",
    "                    r\"$\\sigma$\",r\"$\\sigma'$\"),\n",
    "        delay = 0.0001\n",
    "    )]\n",
    "problem = ibvp.IBVP(solver, system, grid = grid,\\\n",
    "        maxIteration = 1000000, action = actionList,\\\n",
    "        minTimestep = 1e-6)\n",
    "\n",
    "################################################################################\n",
    "# Run the simulation\n",
    "################################################################################\n",
    "\n",
    "problem.run(tstart, tstop)\n",
    "\n",
    "if store_output and mpi_comm.rank == 0:\n",
    "    hdf_file.close()"
   ]
  }
 ],
 "metadata": {
  "kernelspec": {
   "display_name": "Python 3",
   "language": "python",
   "name": "python3"
  },
  "language_info": {
   "codemirror_mode": {
    "name": "ipython",
    "version": 3
   },
   "file_extension": ".py",
   "mimetype": "text/x-python",
   "name": "python",
   "nbconvert_exporter": "python",
   "pygments_lexer": "ipython3",
   "version": "3.10.7"
  },
  "orig_nbformat": 4,
  "vscode": {
   "interpreter": {
    "hash": "916dbcbb3f70747c44a77c7bcd40155683ae19c65e1c03b4aa3499c5328201f1"
   }
  }
 },
 "nbformat": 4,
 "nbformat_minor": 2
}
